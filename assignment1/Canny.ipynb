{
 "cells": [
  {
   "cell_type": "markdown",
   "metadata": {},
   "source": [
    "Set True to save the figures."
   ]
  },
  {
   "cell_type": "code",
   "execution_count": 1,
   "metadata": {},
   "outputs": [],
   "source": [
    "save = False"
   ]
  },
  {
   "cell_type": "code",
   "execution_count": 2,
   "metadata": {},
   "outputs": [],
   "source": [
    "import numpy as np # scientific computing\n",
    "import matplotlib.pyplot as plt # plotting\n",
    "import matplotlib.image as mpimg # reading images\n",
    "from skimage.color import rgb2gray # converting rgb images to grayscale"
   ]
  },
  {
   "cell_type": "markdown",
   "metadata": {},
   "source": [
    "Read images and convert them to grayscale."
   ]
  },
  {
   "cell_type": "code",
   "execution_count": 3,
   "metadata": {},
   "outputs": [],
   "source": [
    "img1 = rgb2gray(mpimg.imread('img1.png'))"
   ]
  },
  {
   "cell_type": "code",
   "execution_count": null,
   "metadata": {
    "scrolled": true
   },
   "outputs": [],
   "source": [
    "plt.figure(figsize=(8, 8))\n",
    "plt.axis('off')\n",
    "plt.title('Image 1 (Original)')\n",
    "plt.imshow(img1, cmap='gray')\n",
    "if save:\n",
    "    plt.savefig('original1.png')\n",
    "plt.show()"
   ]
  },
  {
   "cell_type": "markdown",
   "metadata": {},
   "source": [
    "2D-convolution (actually cross-correlation)"
   ]
  },
  {
   "cell_type": "code",
   "execution_count": 7,
   "metadata": {},
   "outputs": [],
   "source": [
    "def cross_correlate2D(img, mask):\n",
    "    n_r, n_c = img.shape\n",
    "    # Compute row and column offsets\n",
    "    mask_r, mask_c = mask.shape\n",
    "    r_offset = mask_r // 2 - (mask_r % 2 == 0)\n",
    "    c_offset = mask_c // 2 - (mask_c % 2 == 0)\n",
    "    # Apply zero-padding \n",
    "    padded_img = np.pad(img, ((r_offset, r_offset + (mask_r % 2 == 0)),\n",
    "                              (c_offset, c_offset + (mask_c % 2 == 0))))\n",
    "    # Perform 2D cross-correlation\n",
    "    output = np.zeros((n_r, n_c))\n",
    "    for row in range(r_offset, r_offset + n_r):\n",
    "        for col in range(c_offset, c_offset + n_c):\n",
    "            output[row - r_offset, col - c_offset] = np.sum(\n",
    "                mask *\n",
    "                padded_img[row - r_offset: row + r_offset + (mask_r % 2 == 0) + 1, \n",
    "                           col - c_offset: col + c_offset + (mask_c % 2 == 0) + 1]\n",
    "            )\n",
    "    return output"
   ]
  },
  {
   "cell_type": "markdown",
   "metadata": {},
   "source": [
    "Sobel Operator:"
   ]
  },
  {
   "cell_type": "code",
   "execution_count": 9,
   "metadata": {},
   "outputs": [],
   "source": [
    "def sobel(img):\n",
    "    mask_x = np.array([[-1, 0, 1], [-2, 0, 2], [-1, 0, 1]])\n",
    "    mask_y = np.array([[1, 2, 1], [0, 0, 0], [-1, -2, -1]])\n",
    "    edge_x = cross_correlate2D(img, mask_x) / 6\n",
    "    edge_y = cross_correlate2D(img, mask_y) / 6\n",
    "    gradient_magnitudes = np.sqrt(edge_x ** 2 + edge_y ** 2)\n",
    "    gradient_magnitudes *= 255 / np.max(gradient_magnitudes)\n",
    "    gradient_directions = np.arctan2(edge_y, edge_x)\n",
    "    return edge_x, edge_y, gradient_magnitudes, gradient_directions"
   ]
  },
  {
   "cell_type": "markdown",
   "metadata": {},
   "source": [
    "Plotting code is refactored as a seperate function to avoid duplicate code. Feel free to change it."
   ]
  },
  {
   "cell_type": "code",
   "execution_count": 10,
   "metadata": {},
   "outputs": [],
   "source": [
    "def plot_results1(result1, result2, result3, result4, figsize_, method, img_number, save=False):\n",
    "    fig, axs = plt.subplots(2, 2, figsize=figsize_)\n",
    "    axs[0, 0].set_title('Vertical Edges after applying \\n' + method + ' Operator to Image ' + img_number)\n",
    "    axs[0, 0].axis('off')\n",
    "    axs[0, 0].imshow(result1, cmap='gray')\n",
    "    axs[0, 1].set_title('Horizontal Edges after applying \\n' + method + ' Operator to Image ' + img_number)\n",
    "    axs[0, 1].axis('off')\n",
    "    axs[0, 1].imshow(result2, cmap='gray')\n",
    "    axs[1, 0].set_title('Combined Edges of Image ' + img_number + '\\n (Gradient Magnitudes (' + method + '))')\n",
    "    axs[1, 0].axis('off')\n",
    "    axs[1, 0].imshow(result3, cmap='gray')\n",
    "    axs[1, 1].set_title('Gradient Directions (' + method + ') in Image ' + img_number)\n",
    "    axs[1, 1].axis('off')\n",
    "    axs[1, 1].imshow(result4)\n",
    "    if save:\n",
    "        plt.savefig(method + '_results' + img_number + '.png')\n",
    "    plt.show()"
   ]
  },
  {
   "cell_type": "code",
   "execution_count": 17,
   "metadata": {},
   "outputs": [],
   "source": [
    "sobel_x1, sobel_y1, sobel_magnitudes1, sobel_directions1 = sobel(img1)"
   ]
  },
  {
   "cell_type": "code",
   "execution_count": null,
   "metadata": {},
   "outputs": [],
   "source": [
    "plot_results1(sobel_x1, sobel_y1, sobel_magnitudes1, sobel_directions1, (14, 10), 'Sobel', '1', save)"
   ]
  },
  {
   "cell_type": "markdown",
   "metadata": {},
   "source": [
    "### Canny Edge Detector"
   ]
  },
  {
   "cell_type": "markdown",
   "metadata": {},
   "source": [
    "**Step 1**: Apply Gaussian Blur to the image to reduce noise."
   ]
  },
  {
   "cell_type": "code",
   "execution_count": 23,
   "metadata": {},
   "outputs": [],
   "source": [
    "def gaussian_blur(sigma, k=2):\n",
    "    \"\"\"\n",
    "    Generates a Gaussian Blur Filter with shape (2k + 1, 2k + 1), with\n",
    "    the specified standard deviation.\n",
    "    Args:\n",
    "        sigma: The standard deviation of the Gaussian Blur\n",
    "        k: The parameter that determines the shape of the filter (2 by default)\n",
    "    Returns:\n",
    "        G: The resulting Gaussian Blur Filter \n",
    "    \"\"\"\n",
    "    x, y = np.mgrid[-k: k + 1, -k: k + 1]\n",
    "    G = np.exp(-(x ** 2 + y ** 2) / (2 * sigma ** 2)) / 2 * np.pi * sigma ** 2\n",
    "    return G"
   ]
  },
  {
   "cell_type": "markdown",
   "metadata": {},
   "source": [
    "Plot a Gaussian Blur Filter of shape 11x11 and sigma 1 for illustration purposes"
   ]
  },
  {
   "cell_type": "code",
   "execution_count": null,
   "metadata": {},
   "outputs": [],
   "source": [
    "from mpl_toolkits import mplot3d # for 3D plotting\n",
    "\n",
    "k_plt = 5\n",
    "fig_3D = plt.figure(figsize=(15, 10))\n",
    "ax_3D = plt.axes(projection='3d')\n",
    "x_plt, y_plt = np.mgrid[-k_plt: k_plt + 1, -k_plt: k_plt + 1]\n",
    "ax_3D.plot_surface(x_plt, y_plt, gaussian_blur(sigma=1, k=k_plt), rstride=1, cstride=1, \n",
    "                   cmap='viridis', edgecolor='none')\n",
    "ax_3D.set_xlabel('x')\n",
    "ax_3D.set_ylabel('y')\n",
    "ax_3D.set_zlabel('Gaussian(x,y)')\n",
    "plt.title('Gaussian Blur Filter (sigma=1, shape=11x11)')\n",
    "#plt.savefig('gaussian_blur_3d.png')\n",
    "plt.show()"
   ]
  },
  {
   "cell_type": "markdown",
   "metadata": {},
   "source": [
    "**Step 2**: Gradient Calculation, use the **sobel** function implemented above for computing the graident magnitudes and directions. "
   ]
  },
  {
   "cell_type": "markdown",
   "metadata": {},
   "source": [
    "**Step 3**: Implement the Non-Maximum Suppression algorithm to thin out the detected edges."
   ]
  },
  {
   "cell_type": "code",
   "execution_count": 25,
   "metadata": {},
   "outputs": [],
   "source": [
    "def non_max_suppression(gradient_magnitudes, gradient_directions):\n",
    "    \"\"\"\n",
    "    Implements the Non-Maximum Suppression algorithm to thin out the\n",
    "    edges described as gradient magnitudes.\n",
    "    Args:\n",
    "        gradient_magnitudes: Edge intensities\n",
    "        gradient_directions: Edge directions (angles in Radians)\n",
    "    output:\n",
    "        result: The processed edge intensities \n",
    "    \"\"\"\n",
    "   \n",
    "       #INSER YOUR CODE HERE\n",
    "\n",
    "    \n",
    "    return output"
   ]
  },
  {
   "cell_type": "markdown",
   "metadata": {},
   "source": [
    "**Step 4**: Implement the Double Thresholding algorithm to categorize pixels."
   ]
  },
  {
   "cell_type": "code",
   "execution_count": 26,
   "metadata": {},
   "outputs": [],
   "source": [
    "def double_threshold(img, ratio_low, ratio_high):\n",
    "    \"\"\"\n",
    "    Categorizes the image pixels as strong, weak or non-edge\n",
    "    using double thresholding, returns the thresholded image.\n",
    "    Args:\n",
    "        img: The input image\n",
    "        ratio_low: The low threshold ratio \n",
    "        ratio_high: The high threshold ratio \n",
    "    Returns:\n",
    "        thresholded_img: The thresholded output. Each pixel would take the value of 0, strong or weak intensities as set below. \n",
    "        weak: The intensity level of weak pixels\n",
    "        strong: The intensity level of strong pixels\n",
    "    \"\"\"\n",
    "    high = ratio_high * np.max(img)\n",
    "    low = ratio_low * np.max(img)\n",
    "    weak = 25\n",
    "    strong = 255\n",
    "    \n",
    "    #INSER YOUR CODE HERE\n",
    "\n",
    "    return thresholded_img, weak, strong"
   ]
  },
  {
   "cell_type": "markdown",
   "metadata": {},
   "source": [
    "**Step 5**: Implement Hysteresis to combine the Strong and Weak pixels and produces the final result. "
   ]
  },
  {
   "cell_type": "code",
   "execution_count": 27,
   "metadata": {},
   "outputs": [],
   "source": [
    "def hysteresis(img, weak, strong):\n",
    "    \"\"\"\n",
    "    Args:\n",
    "        img: The input image\n",
    "        weak: The weak intensity level\n",
    "        strong: The strong intensity level\n",
    "    Returns:\n",
    "        output: The processed output image\n",
    "    \"\"\"\n",
    "    #INSER YOUR CODE HERE\n",
    "    return output"
   ]
  },
  {
   "cell_type": "markdown",
   "metadata": {},
   "source": [
    "Combine the five steps in a single algorithm:"
   ]
  },
  {
   "cell_type": "code",
   "execution_count": 28,
   "metadata": {},
   "outputs": [],
   "source": [
    "def canny_edge_detector(img, sigma, ratio_low, ratio_high, k=2):\n",
    "    \"\"\"\n",
    "    Applys Canny Edge Detection algorithm to a given image.\n",
    "    Args:\n",
    "        img: The input image\n",
    "        sigma: The standard deviation of the 5x5 Gaussian Filter\n",
    "           \n",
    "        ratio_low: The low threshold ratio used in the Double Thresholding step\n",
    "            \n",
    "        ratio_high: The high threshold ratio used in the Double Thresholding step\n",
    "            \n",
    "        k: Parameter to adjust the shape of the (2k + 1, 2k + 1) gaussian blur \n",
    "    \"\"\"\n",
    "    G = gaussian_blur(sigma, k)\n",
    "    blurred_img = cross_correlate2D(img, G)\n",
    "    _, _, gradient_magnitudes, gradient_directions = sobel(blurred_img)\n",
    "    nms_img = non_max_suppression(gradient_magnitudes, gradient_directions)\n",
    "    thresholded_img, weak, strong = double_threshold(nms_img, ratio_low, ratio_high)\n",
    "    output = hysteresis(thresholded_img, weak, strong)\n",
    "    return output"
   ]
  },
  {
   "cell_type": "markdown",
   "metadata": {},
   "source": [
    "Add your results and answers to the questions 5.2.1, 5.2.2 and 5.2.3 here"
   ]
  }
 ],
 "metadata": {
  "kernelspec": {
   "display_name": "Python 3",
   "language": "python",
   "name": "python3"
  },
  "language_info": {
   "codemirror_mode": {
    "name": "ipython",
    "version": 3
   },
   "file_extension": ".py",
   "mimetype": "text/x-python",
   "name": "python",
   "nbconvert_exporter": "python",
   "pygments_lexer": "ipython3",
   "version": "3.7.7"
  }
 },
 "nbformat": 4,
 "nbformat_minor": 4
}
