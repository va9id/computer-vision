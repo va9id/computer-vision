{
  "cells": [
    {
      "cell_type": "markdown",
      "metadata": {
        "id": "tUjA0X_vURsr"
      },
      "source": [
        "#COMP4102A Assignment 2 (Starter Code)\n",
        "Use this starter code for Assignment 2"
      ]
    },
    {
      "cell_type": "code",
      "execution_count": null,
      "metadata": {
        "id": "B8E8pTxz4Smw"
      },
      "outputs": [],
      "source": [
        "import torch\n",
        "import torchvision\n",
        "import torchvision.transforms as transforms\n",
        "from torch.autograd import Variable\n",
        "torch.cuda.is_available()\n",
        "\n",
        "transform = transforms.Compose(\n",
        "    [transforms.ToTensor(),\n",
        "     transforms.Normalize((0.5, 0.5, 0.5), (0.5, 0.5, 0.5))])\n",
        "\n",
        "trainset = torchvision.datasets.CIFAR10(root='./data', train=True,\n",
        "                                        download=True, transform=transform)\n",
        "trainloader = torch.utils.data.DataLoader(trainset, batch_size=4,\n",
        "                                          shuffle=True, num_workers=2)\n",
        "\n",
        "testset = torchvision.datasets.CIFAR10(root='./data', train=False,\n",
        "                                       download=True, transform=transform)\n",
        "testloader = torch.utils.data.DataLoader(testset, batch_size=4,\n",
        "                                         shuffle=False, num_workers=2)\n",
        "\n",
        "classes = ('plane', 'car', 'bird', 'cat',\n",
        "           'deer', 'dog', 'frog', 'horse', 'ship', 'truck')"
      ]
    },
    {
      "cell_type": "code",
      "execution_count": null,
      "metadata": {
        "id": "KNPsQDrxmGNl"
      },
      "outputs": [],
      "source": [
        "import torch.nn as nn\n",
        "import torch.nn.functional as F\n",
        "\n",
        "# Define the CNN Class\n",
        "class Net(nn.Module):\n",
        "    def __init__(self):\n",
        "        super(Net, self).__init__()\n",
        "\n",
        "        # Step 1: Create the first convolutional layer (conv1)\n",
        "        #   - Input channels: 3\n",
        "        #   - Output channels: 6\n",
        "        #   - Kernel size: 5\n",
        "\n",
        "        # Step 2: Create max pooling layer (pool)\n",
        "        #   - Kernel size: 2\n",
        "        #   - Stride: 2\n",
        "\n",
        "        # Step 3: Create the second convolutional layer (conv2)\n",
        "        #   - Input channels: 6\n",
        "        #   - Output channels: 16\n",
        "        #   - Kernel size: 5\n",
        "\n",
        "        # Step 4: Create the first fully connected layer (fc1)\n",
        "        #   - Input features: 16 * 5 * 5\n",
        "        #   - Output features: 120\n",
        "\n",
        "        # Step 5: Create the second fully connected layer (fc2)\n",
        "        #   - Input features: 120\n",
        "        #   - Output features: 120\n",
        "\n",
        "        # Step 6: Create the third fully connected layer (fc3)\n",
        "        #   - Input features: 120\n",
        "        #   - Output features: 10 (number of classes in CIFAR-10)\n",
        "\n",
        "    def forward(self, x):\n",
        "        # Step 7: Define the forward pass\n",
        "        #   - Apply conv1, followed by ReLU activation and max pooling\n",
        "\n",
        "        #   - Apply conv2, followed by ReLU activation and max pooling\n",
        "\n",
        "        #   - Reshape the tensor for the fully connected layers\n",
        "\n",
        "        #   - Apply fc1, followed by ReLU activation\n",
        "\n",
        "        #   - Apply fc2, followed by ReLU activation\n",
        "\n",
        "        #   - Apply fc3 (output layer)\n",
        "\n",
        "        #   - Return output\n",
        "#print(Net())"
      ]
    },
    {
      "cell_type": "code",
      "execution_count": null,
      "metadata": {
        "id": "zWhZxxla4rTv"
      },
      "outputs": [],
      "source": [
        "import torch.optim as optim\n",
        "net=Net()\n",
        "CUDA=torch.cuda.is_available()\n",
        "if CUDA:\n",
        "  net=net.cuda()\n",
        "\n",
        "# Let's first define our device as the first visible cuda device if we have\n",
        "# CUDA available:\n",
        "device = torch.device(\"cuda:0\" if torch.cuda.is_available() else \"cpu\")\n",
        "\n",
        "# Assuming that we are on a CUDA machine, this should print a CUDA device:\n",
        "print(device)\n",
        "\n",
        "#In Colab, got to Edit>Notebook settings> choose Python 3. For the hardware\n",
        "#accelerator, you may select None or GPU.\n"
      ]
    },
    {
      "cell_type": "code",
      "execution_count": null,
      "metadata": {
        "id": "3gYlmnOXJEPX"
      },
      "outputs": [],
      "source": [
        "# 4. Train the network\n",
        "criterion = nn.CrossEntropyLoss()\n",
        "optimizer = optim.SGD(net.parameters(), lr=0.001, momentum=0.9)\n",
        "accuracy_values=[]\n",
        "epoch_number=[]\n",
        "for epoch in range(10):  # loop over the dataset multiple times. Here 10 means 10 epochs\n",
        "    running_loss = 0.0\n",
        "    for i, (inputs,labels) in enumerate(trainloader, 0):\n",
        "        # get the inputs; data is a list of [inputs, labels]\n",
        "        if CUDA:\n",
        "          inputs = inputs.cuda()\n",
        "          labels = labels.cuda()\n",
        "        else:\n",
        "          inputs = inputs.cpu()\n",
        "          labels = labels.cpu()\n",
        "\n",
        "        # zero the parameter gradients\n",
        "        optimizer.zero_grad()\n",
        "\n",
        "        # forward + backward + optimize\n",
        "        outputs = net(inputs)\n",
        "        loss = criterion(outputs, labels)\n",
        "        loss.backward()\n",
        "        optimizer.step()\n",
        "\n",
        "        # print statistics\n",
        "        running_loss += loss.item()\n",
        "        if i % 2000 == 1999:    # print every 2000 mini-batches\n",
        "            print('[epoch%d, itr%5d] loss: %.3f' %\n",
        "                  (epoch + 1, i + 1, running_loss / 2000))\n",
        "            running_loss = 0.0\n",
        "\n",
        "    correct = 0\n",
        "    total = 0\n",
        "    with torch.no_grad():\n",
        "        for images, labels in testloader:\n",
        "            if CUDA:\n",
        "              images = images.cuda()\n",
        "              labels = labels.cuda()\n",
        "            else:\n",
        "              images = images.cpu()\n",
        "              labels =labels.cpu()\n",
        "\n",
        "            outputs = net(images)\n",
        "            _, predicted = torch.max(outputs.data, 1)\n",
        "            total += labels.size(0)\n",
        "            if CUDA:\n",
        "              correct += (predicted.cpu()==labels.cpu()).sum().item()\n",
        "            else:\n",
        "              correct += (predicted==labels).sum().item()\n",
        "\n",
        "        TestAccuracy = 100 * correct / total;\n",
        "        epoch_number += [epoch+1]\n",
        "        accuracy_values += [TestAccuracy]\n",
        "        print('Epoch=%d Test Accuracy=%.3f' %\n",
        "                  (epoch + 1, TestAccuracy))\n",
        "\n",
        "print('Finished Training')"
      ]
    },
    {
      "cell_type": "code",
      "execution_count": null,
      "metadata": {
        "id": "5TRFTQ1eYt4g"
      },
      "outputs": [],
      "source": [
        "import matplotlib.pyplot as plt\n",
        "import numpy as np\n",
        "\n",
        "print(accuracy_values)\n",
        "# Plot the data\n",
        "plt.plot(epoch_number, accuracy_values, label='CNN')\n",
        "\n",
        "# Add a legend\n",
        "plt.legend()\n",
        "\n",
        "# Show the plot\n",
        "plt.show()\n",
        "\n",
        "## Anything better than 10% accuracy (randomly picking a class out of 10 classes)\n",
        "# means the network has learned something."
      ]
    },
    {
      "cell_type": "markdown",
      "metadata": {
        "id": "5ovuSCAMRJaB"
      },
      "source": [
        "#Additional code to explore the dataset and the trained model"
      ]
    },
    {
      "cell_type": "code",
      "execution_count": null,
      "metadata": {
        "id": "xPDRDas64btL"
      },
      "outputs": [],
      "source": [
        "# Show some random training images\n",
        "\n",
        "import matplotlib.pyplot as plt\n",
        "import numpy as np\n",
        "\n",
        "# functions to show an image\n",
        "def imshow(img):\n",
        "    img = img / 2 + 0.5     # unnormalize\n",
        "    npimg = img.numpy()\n",
        "    plt.imshow(np.transpose(npimg, (1, 2, 0)))\n",
        "    plt.show()\n",
        "\n",
        "# get some random training images\n",
        "dataiter = iter(trainloader)\n",
        "images, labels = next(dataiter)\n",
        "print(images.size())\n",
        "# show images\n",
        "imshow(torchvision.utils.make_grid(images))\n",
        "# print labels\n",
        "print(' '.join('%5s' % classes[labels[j]] for j in range(4)))"
      ]
    },
    {
      "cell_type": "code",
      "execution_count": null,
      "metadata": {
        "id": "mmQoiOSz46E2"
      },
      "outputs": [],
      "source": [
        "# Test the network on some test images\n",
        "\n",
        "dataiter = iter(testloader)\n",
        "images, labels = next(dataiter)\n",
        "\n",
        "# print images\n",
        "imshow(torchvision.utils.make_grid(images))\n",
        "print('GroundTruth: ', ' '.join('%5s' % classes[labels[j]] for j in range(4)))\n",
        "\n",
        "# The outputs are energies for the 10 classes.\n",
        "# The higher the energy for a class, the more the network\n",
        "# thinks that the image is of the particular class.\n",
        "# So, let's get the index of the highest energy:\n",
        "if CUDA:\n",
        "  images = images.cuda()\n",
        "  labels = labels.cuda()\n",
        "else:\n",
        "  images = images.cpu()\n",
        "  labels =labels.cpu()\n",
        "outputs = net(images)\n",
        "_, predicted = torch.max(outputs, 1)\n",
        "\n",
        "print('Predicted: ', ' '.join('%5s' % classes[predicted[j]]\n",
        "                              for j in range(4)))\n"
      ]
    },
    {
      "cell_type": "code",
      "execution_count": null,
      "metadata": {
        "id": "aT8hcwhg5H7W"
      },
      "outputs": [],
      "source": [
        "# Lets check what are the classes that performed well, and the classes that did\n",
        "# not perform well:\n",
        "\n",
        "class_correct = list(0. for i in range(10))\n",
        "class_total = list(0. for i in range(10))\n",
        "with torch.no_grad():\n",
        "    for images, labels in testloader:\n",
        "        if CUDA:\n",
        "          images =images.cuda()\n",
        "          labels =labels.cuda()\n",
        "        else:\n",
        "          images =images.cpu()\n",
        "          labels =labels.cpu()\n",
        "\n",
        "        outputs = net(images)\n",
        "        _, predicted = torch.max(outputs, 1)\n",
        "        c = (predicted == labels).squeeze()\n",
        "        for i in range(4):\n",
        "            label = labels[i]\n",
        "            class_correct[label] += c[i].item()\n",
        "            class_total[label] += 1\n",
        "\n",
        "\n",
        "for i in range(10):\n",
        "    print('Accuracy of %5s : %2d %%' % (\n",
        "        classes[i], 100 * class_correct[i] / class_total[i]))"
      ]
    }
  ],
  "metadata": {
    "accelerator": "GPU",
    "colab": {
      "provenance": []
    },
    "kernelspec": {
      "display_name": "Python 3",
      "language": "python",
      "name": "python3"
    },
    "language_info": {
      "codemirror_mode": {
        "name": "ipython",
        "version": 3
      },
      "file_extension": ".py",
      "mimetype": "text/x-python",
      "name": "python",
      "nbconvert_exporter": "python",
      "pygments_lexer": "ipython3",
      "version": "3.8.3"
    }
  },
  "nbformat": 4,
  "nbformat_minor": 0
}